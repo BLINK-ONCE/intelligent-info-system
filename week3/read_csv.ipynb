{
 "cells": [
  {
   "cell_type": "code",
   "execution_count": 1,
   "id": "a4eea413",
   "metadata": {},
   "outputs": [],
   "source": [
    "import pandas as pd"
   ]
  },
  {
   "cell_type": "code",
   "execution_count": 3,
   "id": "ff527973",
   "metadata": {},
   "outputs": [],
   "source": [
    "import csv"
   ]
  },
  {
   "cell_type": "markdown",
   "id": "0c6c2382",
   "metadata": {},
   "source": [
    "f= open('../ta_20220919103945.csv', 'r', encoding='cp949')\n",
    "data = csv.reader(f)\n",
    "\n",
    "# for i, row in enumerate(data):\n",
    "#     if i > 6: print(row)\n",
    "\n"
   ]
  },
  {
   "cell_type": "markdown",
   "id": "181fcb6b",
   "metadata": {},
   "source": [
    "import csv    \n",
    "f1 = open('output.csv', 'w', encoding='utf-8', newline='')\n",
    "wr = csv.writer(f1)\n",
    "\n",
    "for i, row in enumerate(data):\n",
    "    if i > 6: \n",
    "        wr.writerow(row)\n",
    "        print(row)\n",
    "\n",
    "\n",
    "f1.close()"
   ]
  },
  {
   "cell_type": "markdown",
   "id": "64b684fb",
   "metadata": {},
   "source": [
    "f= open('output.csv', 'r', encoding='utf-8')\n",
    "data = csv.reader(f)\n",
    "\n",
    "for row in data:\n",
    "    print(row)"
   ]
  },
  {
   "cell_type": "code",
   "execution_count": null,
   "id": "145a28d9",
   "metadata": {},
   "outputs": [],
   "source": []
  }
 ],
 "metadata": {
  "kernelspec": {
   "display_name": "Python 3 (ipykernel)",
   "language": "python",
   "name": "python3"
  },
  "language_info": {
   "codemirror_mode": {
    "name": "ipython",
    "version": 3
   },
   "file_extension": ".py",
   "mimetype": "text/x-python",
   "name": "python",
   "nbconvert_exporter": "python",
   "pygments_lexer": "ipython3",
   "version": "3.9.7"
  }
 },
 "nbformat": 4,
 "nbformat_minor": 5
}
