{
 "cells": [
  {
   "cell_type": "markdown",
   "id": "79ad3fcf",
   "metadata": {},
   "source": [
    "import pandas as pd"
   ]
  },
  {
   "cell_type": "markdown",
   "id": "c1a8d24d",
   "metadata": {},
   "source": [
    "import csv"
   ]
  },
  {
   "cell_type": "markdown",
   "id": "612e6fbb",
   "metadata": {},
   "source": [
    "f= open('../ta_20220919103945.csv', 'r', encoding='cp949')\n",
    "data = csv.reader(f)\n",
    "\n",
    "# for i, row in enumerate(data):\n",
    "#     if i > 6: print(row)\n",
    "\n"
   ]
  },
  {
   "cell_type": "markdown",
   "id": "b7aa990f",
   "metadata": {},
   "source": [
    "import csv    \n",
    "f1 = open('output.csv', 'w', encoding='utf-8', newline='')\n",
    "wr = csv.writer(f1)\n",
    "\n",
    "for i, row in enumerate(data):\n",
    "    if i > 6: \n",
    "        wr.writerow(row)\n",
    "        print(row)\n",
    "\n",
    "\n",
    "f1.close()"
   ]
  },
  {
   "cell_type": "markdown",
   "id": "44140eb0",
   "metadata": {},
   "source": [
    "f= open('output.csv', 'r', encoding='utf-8')\n",
    "data = csv.reader(f)\n",
    "\n",
    "for row in data:\n",
    "    print(row)"
   ]
  },
  {
   "cell_type": "code",
   "execution_count": 38,
   "id": "0c6fb718",
   "metadata": {},
   "outputs": [
    {
     "ename": "IndexError",
     "evalue": "list index out of range",
     "output_type": "error",
     "traceback": [
      "\u001b[0;31m---------------------------------------------------------------------------\u001b[0m",
      "\u001b[0;31mIndexError\u001b[0m                                Traceback (most recent call last)",
      "\u001b[0;32m/var/folders/j2/9jlbt4m54g7_xxbsdb4wf9_r0000gn/T/ipykernel_56911/1870835012.py\u001b[0m in \u001b[0;36m<module>\u001b[0;34m\u001b[0m\n\u001b[1;32m      8\u001b[0m \u001b[0;34m\u001b[0m\u001b[0m\n\u001b[1;32m      9\u001b[0m \u001b[0;32mfor\u001b[0m \u001b[0mrow\u001b[0m \u001b[0;32min\u001b[0m \u001b[0mdata\u001b[0m\u001b[0;34m:\u001b[0m\u001b[0;34m\u001b[0m\u001b[0;34m\u001b[0m\u001b[0m\n\u001b[0;32m---> 10\u001b[0;31m     \u001b[0m_\u001b[0m \u001b[0;34m=\u001b[0m \u001b[0mrow\u001b[0m\u001b[0;34m[\u001b[0m\u001b[0;34m-\u001b[0m\u001b[0;36m1\u001b[0m\u001b[0;34m]\u001b[0m\u001b[0;34m\u001b[0m\u001b[0;34m\u001b[0m\u001b[0m\n\u001b[0m\u001b[1;32m     11\u001b[0m \u001b[0;31m#     if not row[-1] == '': temp.append(float(row[-1]))\u001b[0m\u001b[0;34m\u001b[0m\u001b[0;34m\u001b[0m\u001b[0m\n\u001b[1;32m     12\u001b[0m \u001b[0;34m\u001b[0m\u001b[0m\n",
      "\u001b[0;31mIndexError\u001b[0m: list index out of range"
     ]
    }
   ],
   "source": [
    "import csv\n",
    "\n",
    "f = open('incheon_weather.csv', 'r')\n",
    "data = csv.reader(f)\n",
    "header = next(data)\n",
    "\n",
    "temp = list()\n",
    "\n",
    "for row in data:\n",
    "    _ = row[-1]\n",
    "#     if not row[-1] == '': temp.append(float(row[-1]))\n",
    "        \n",
    "print(max(temp))\n",
    "        \n",
    "f.close()"
   ]
  },
  {
   "cell_type": "code",
   "execution_count": null,
   "id": "7c20e592",
   "metadata": {},
   "outputs": [],
   "source": []
  }
 ],
 "metadata": {
  "kernelspec": {
   "display_name": "Python 3 (ipykernel)",
   "language": "python",
   "name": "python3"
  },
  "language_info": {
   "codemirror_mode": {
    "name": "ipython",
    "version": 3
   },
   "file_extension": ".py",
   "mimetype": "text/x-python",
   "name": "python",
   "nbconvert_exporter": "python",
   "pygments_lexer": "ipython3",
   "version": "3.9.7"
  }
 },
 "nbformat": 4,
 "nbformat_minor": 5
}
