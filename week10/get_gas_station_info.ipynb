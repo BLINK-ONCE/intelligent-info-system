{
 "cells": [
  {
   "cell_type": "code",
   "execution_count": 1,
   "id": "92ddc02c",
   "metadata": {},
   "outputs": [
    {
     "name": "stderr",
     "output_type": "stream",
     "text": [
      "/var/folders/j2/9jlbt4m54g7_xxbsdb4wf9_r0000gn/T/ipykernel_2913/1126923817.py:3: DeprecationWarning: executable_path has been deprecated, please pass in a Service object\n",
      "  driver = webdriver.Chrome(\"../chromedriver\")\n"
     ]
    }
   ],
   "source": [
    "from selenium import webdriver\n",
    "\n",
    "driver = webdriver.Chrome(\"../chromedriver\")"
   ]
  },
  {
   "cell_type": "code",
   "execution_count": 4,
   "id": "92334df2",
   "metadata": {},
   "outputs": [],
   "source": [
    "main_url = 'https://www.opinet.co.kr/user/main/mainView.do'\n",
    "driver.get(main_url)\n",
    "url = 'https://www.opinet.co.kr/searRgSelect.do'\n",
    "driver.get(url)"
   ]
  },
  {
   "cell_type": "code",
   "execution_count": 6,
   "id": "a2f16487",
   "metadata": {},
   "outputs": [],
   "source": [
    "city_xpath = '//*[@id=\"SIDO_NM0\"]'\n",
    "driver.find_element('id', 'SIDO_NM0').send_keys('인천')"
   ]
  },
  {
   "cell_type": "code",
   "execution_count": 7,
   "id": "d9375e4e",
   "metadata": {},
   "outputs": [],
   "source": [
    "driver.find_element('id', 'SIGUNGU_NM0').send_keys('연수구')"
   ]
  },
  {
   "cell_type": "code",
   "execution_count": 8,
   "id": "fcc7923b",
   "metadata": {},
   "outputs": [],
   "source": [
    "driver.find_element('id', 'searRgSelect').click()"
   ]
  },
  {
   "cell_type": "code",
   "execution_count": 9,
   "id": "982a50a2",
   "metadata": {},
   "outputs": [],
   "source": [
    "driver.find_element('id', 'glopopd_excel').click()"
   ]
  },
  {
   "cell_type": "code",
   "execution_count": null,
   "id": "e554a704",
   "metadata": {},
   "outputs": [],
   "source": [
    "opts = webdriver.ChromeOptions()\n",
    "opts.add_experimental_option('prefs', {\n",
    "    'download.default_directory': '/Users/moonki/Documents/git-repository/intelligent-info-system/week10'\n",
    "})\n",
    "\n",
    "driver = webdriver.Chrome('../chromedriver', options=opts)"
   ]
  }
 ],
 "metadata": {
  "kernelspec": {
   "display_name": "Python 3 (ipykernel)",
   "language": "python",
   "name": "python3"
  },
  "language_info": {
   "codemirror_mode": {
    "name": "ipython",
    "version": 3
   },
   "file_extension": ".py",
   "mimetype": "text/x-python",
   "name": "python",
   "nbconvert_exporter": "python",
   "pygments_lexer": "ipython3",
   "version": "3.9.7"
  }
 },
 "nbformat": 4,
 "nbformat_minor": 5
}
