{
 "cells": [
  {
   "cell_type": "code",
   "execution_count": 1,
   "id": "7b653d75",
   "metadata": {
    "scrolled": true
   },
   "outputs": [
    {
     "name": "stderr",
     "output_type": "stream",
     "text": [
      "/var/folders/j2/9jlbt4m54g7_xxbsdb4wf9_r0000gn/T/ipykernel_2732/1126923817.py:3: DeprecationWarning: executable_path has been deprecated, please pass in a Service object\n",
      "  driver = webdriver.Chrome(\"../chromedriver\")\n"
     ]
    }
   ],
   "source": [
    "from selenium import webdriver\n",
    "\n",
    "driver = webdriver.Chrome(\"../chromedriver\")"
   ]
  },
  {
   "cell_type": "code",
   "execution_count": 2,
   "id": "4dbe06cc",
   "metadata": {},
   "outputs": [],
   "source": [
    "driver.get('https://www.naver.com')"
   ]
  },
  {
   "cell_type": "code",
   "execution_count": 3,
   "id": "cd85aa71",
   "metadata": {},
   "outputs": [],
   "source": [
    "driver.get('https://www.google.com')"
   ]
  },
  {
   "cell_type": "code",
   "execution_count": 4,
   "id": "b5ba3aa1",
   "metadata": {},
   "outputs": [],
   "source": [
    "from urllib.request import urlopen\n",
    "from bs4 import BeautifulSoup\n",
    "import pandas as pd"
   ]
  },
  {
   "cell_type": "code",
   "execution_count": 5,
   "id": "b8b2bd38",
   "metadata": {},
   "outputs": [],
   "source": [
    "driver.get('https://www.naver.com')"
   ]
  },
  {
   "cell_type": "code",
   "execution_count": 13,
   "id": "ec30ea24",
   "metadata": {},
   "outputs": [],
   "source": [
    "driver.get('https://nid.naver.com/nidlogin.login?mode=form&url=https%3A%2F%2Fwww.naver.com')"
   ]
  },
  {
   "cell_type": "code",
   "execution_count": 18,
   "id": "f52d0b6f",
   "metadata": {},
   "outputs": [],
   "source": [
    "login_id = driver.find_element('id', 'id')\n",
    "login_id.clear()\n",
    "login_id.send_keys('naver_id')"
   ]
  },
  {
   "cell_type": "code",
   "execution_count": 21,
   "id": "831bc200",
   "metadata": {},
   "outputs": [],
   "source": [
    "login_id = driver.find_element('id', 'pw')\n",
    "login_id.clear()\n",
    "login_id.send_keys('naver_pw')"
   ]
  },
  {
   "cell_type": "code",
   "execution_count": 23,
   "id": "a24eb42e",
   "metadata": {},
   "outputs": [],
   "source": [
    "login_btn = driver.find_element('id', 'log.login')\n",
    "login_btn.click()"
   ]
  },
  {
   "cell_type": "code",
   "execution_count": null,
   "id": "ae0447c3",
   "metadata": {},
   "outputs": [],
   "source": []
  }
 ],
 "metadata": {
  "kernelspec": {
   "display_name": "Python 3 (ipykernel)",
   "language": "python",
   "name": "python3"
  },
  "language_info": {
   "codemirror_mode": {
    "name": "ipython",
    "version": 3
   },
   "file_extension": ".py",
   "mimetype": "text/x-python",
   "name": "python",
   "nbconvert_exporter": "python",
   "pygments_lexer": "ipython3",
   "version": "3.9.7"
  }
 },
 "nbformat": 4,
 "nbformat_minor": 5
}
