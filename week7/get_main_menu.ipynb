{
 "cells": [
  {
   "cell_type": "markdown",
   "id": "0ec4cd33",
   "metadata": {},
   "source": [
    "# 네이버 메뉴 이름 뽑아내기"
   ]
  },
  {
   "cell_type": "markdown",
   "id": "b5ad5c02",
   "metadata": {},
   "source": [
    "```\n",
    "<div class=\"group_nav\">\n",
    "<ul class=\"list_nav type_fix\">\n",
    "<li class=\"nav_item\">\n",
    "<a href=\"https://mail.naver.com/\" class=\"nav\" data-clk=\"svc.mail\"><i class=\"ico_mail\"></i>메일</a>\n",
    "</li>\n",
    "<li class=\"nav_item\"><a href=\"https://section.cafe.naver.com/\" class=\"nav\" data-clk=\"svc.cafe\">카페</a></li>\n",
    "<li class=\"nav_item\"><a href=\"https://section.blog.naver.com/\" class=\"nav\" data-clk=\"svc.blog\">블로그</a></li>\n",
    "<li class=\"nav_item\"><a href=\"https://kin.naver.com/\" class=\"nav\" data-clk=\"svc.kin\">지식iN</a></li>\n",
    "<li class=\"nav_item\"><a href=\"https://shopping.naver.com/\" class=\"nav shop\" data-clk=\"svc.shopping\"><span class=\"blind\">쇼핑</span></a></li>\n",
    "<li class=\"nav_item\"><a href=\"https://shoppinglive.naver.com/home\" class=\"nav shoplive\" data-clk=\"svc.shoppinglive\"><span class=\"blind\">쇼핑LIVE</span></a></li>\n",
    "<li class=\"nav_item\"><a href=\"https://order.pay.naver.com/home\" class=\"nav\" data-clk=\"svc.pay\">Pay</a></li>\n",
    "<li class=\"nav_item\">\n",
    "<a href=\"https://tv.naver.com/\" class=\"nav\" data-clk=\"svc.tvcast\"><i class=\"ico_tv\"></i>TV</a>\n",
    "</li>\n",
    "</ul>\n",
    "<ul class=\"list_nav NM_FAVORITE_LIST\">\n",
    "<li class=\"nav_item\"><a href=\"https://dict.naver.com/\" class=\"nav\" data-clk=\"svc.dic\">사전</a></li>\n",
    "<li class=\"nav_item\"><a href=\"https://news.naver.com/\" class=\"nav\" data-clk=\"svc.news\">뉴스</a></li>\n",
    "<li class=\"nav_item\"><a href=\"https://finance.naver.com/\" class=\"nav\" data-clk=\"svc.stock\">증권</a></li>\n",
    "<li class=\"nav_item\"><a href=\"https://land.naver.com/\" class=\"nav\" data-clk=\"svc.land\">부동산</a></li>\n",
    "<li class=\"nav_item\"><a href=\"https://map.naver.com/\" class=\"nav\" data-clk=\"svc.map\">지도</a></li>\n",
    "<li class=\"nav_item\"><a href=\"https://vibe.naver.com/\" class=\"nav\" data-clk=\"svc.vibe\">VIBE</a></li>\n",
    "<li class=\"nav_item\"><a href=\"https://search.shopping.naver.com/book/home\" class=\"nav\" data-clk=\"svc.book\">도서</a></li>\n",
    "<li class=\"nav_item\"><a href=\"https://comic.naver.com/\" class=\"nav\" data-clk=\"svc.webtoon\">웹툰</a></li>\n",
    "\n",
    "</ul>\n",
    "<ul class=\"list_nav type_empty\" style=\"display: none;\"></ul>\n",
    "<a href=\"#\" role=\"button\" class=\"btn_more\" data-clk=\"svc.more\">더보기</a>\n",
    "<div class=\"ly_btn_area\">\n",
    "<a href=\"more.html\" class=\"btn NM_FAVORITE_ALL\" data-clk=\"map.svcmore\">서비스 전체보기</a>\n",
    "<a href=\"#\" role=\"button\" class=\"btn btn_set\" data-clk=\"map.edit\">메뉴설정</a>\n",
    "<a href=\"#\" role=\"button\" class=\"btn btn_reset\" data-clk=\"edt.reset\" style=\"display: none;\">초기화</a>\n",
    "<a href=\"#\" role=\"button\" class=\"btn btn_save\" data-clk=\"edt.save\" style=\"display: none;\">저장</a>\n",
    "</div>\n",
    "</div>\n",
    "```"
   ]
  },
  {
   "cell_type": "code",
   "execution_count": 1,
   "id": "097b8cff",
   "metadata": {},
   "outputs": [
    {
     "name": "stdout",
     "output_type": "stream",
     "text": [
      "\n",
      "\n",
      "메일\n",
      "\n",
      "카페\n",
      "블로그\n",
      "지식iN\n",
      "쇼핑\n",
      "쇼핑LIVE\n",
      "Pay\n",
      "\n",
      "TV\n",
      "\n",
      "\n"
     ]
    }
   ],
   "source": [
    "from bs4 import BeautifulSoup\n",
    "from urllib.request import urlopen\n",
    "\n",
    "url = 'https://www.naver.com'\n",
    "html = urlopen(url)\n",
    "\n",
    "soup = BeautifulSoup(html.read(), 'html.parser')\n",
    "\n",
    "result = soup.find('ul', {'class': 'list_nav type_fix'})\n",
    "print(result.text)"
   ]
  },
  {
   "cell_type": "code",
   "execution_count": 2,
   "id": "8d2a8de8",
   "metadata": {},
   "outputs": [
    {
     "name": "stdout",
     "output_type": "stream",
     "text": [
      "[<li class=\"nav_item\">\n",
      "<a class=\"nav\" data-clk=\"svc.mail\" href=\"https://mail.naver.com/\"><i class=\"ico_mail\"></i>메일</a>\n",
      "</li>, <li class=\"nav_item\"><a class=\"nav\" data-clk=\"svc.cafe\" href=\"https://section.cafe.naver.com/\">카페</a></li>, <li class=\"nav_item\"><a class=\"nav\" data-clk=\"svc.blog\" href=\"https://section.blog.naver.com/\">블로그</a></li>, <li class=\"nav_item\"><a class=\"nav\" data-clk=\"svc.kin\" href=\"https://kin.naver.com/\">지식iN</a></li>, <li class=\"nav_item\"><a class=\"nav shop\" data-clk=\"svc.shopping\" href=\"https://shopping.naver.com/\"><span class=\"blind\">쇼핑</span></a></li>, <li class=\"nav_item\"><a class=\"nav shoplive\" data-clk=\"svc.shoppinglive\" href=\"https://shoppinglive.naver.com/home\"><span class=\"blind\">쇼핑LIVE</span></a></li>, <li class=\"nav_item\"><a class=\"nav\" data-clk=\"svc.pay\" href=\"https://order.pay.naver.com/home\">Pay</a></li>, <li class=\"nav_item\">\n",
      "<a class=\"nav\" data-clk=\"svc.tvcast\" href=\"https://tv.naver.com/\"><i class=\"ico_tv\"></i>TV</a>\n",
      "</li>]\n"
     ]
    }
   ],
   "source": [
    "from bs4 import BeautifulSoup\n",
    "from urllib.request import urlopen\n",
    "\n",
    "url = 'https://www.naver.com'\n",
    "html = urlopen(url)\n",
    "\n",
    "soup = BeautifulSoup(html.read(), 'html.parser')\n",
    "\n",
    "result = soup.find('ul', {'class': 'list_nav type_fix'})\n",
    "li_result = result.find_all('li')\n",
    "print(li_result)"
   ]
  },
  {
   "cell_type": "code",
   "execution_count": 4,
   "id": "c78887d5",
   "metadata": {},
   "outputs": [
    {
     "name": "stdout",
     "output_type": "stream",
     "text": [
      "<li class=\"nav_item\">\n",
      "<a class=\"nav\" data-clk=\"svc.mail\" href=\"https://mail.naver.com/\"><i class=\"ico_mail\"></i>메일</a>\n",
      "</li>\n",
      "<li class=\"nav_item\"><a class=\"nav\" data-clk=\"svc.cafe\" href=\"https://section.cafe.naver.com/\">카페</a></li>\n",
      "<li class=\"nav_item\"><a class=\"nav\" data-clk=\"svc.blog\" href=\"https://section.blog.naver.com/\">블로그</a></li>\n",
      "<li class=\"nav_item\"><a class=\"nav\" data-clk=\"svc.kin\" href=\"https://kin.naver.com/\">지식iN</a></li>\n",
      "<li class=\"nav_item\"><a class=\"nav shop\" data-clk=\"svc.shopping\" href=\"https://shopping.naver.com/\"><span class=\"blind\">쇼핑</span></a></li>\n",
      "<li class=\"nav_item\"><a class=\"nav shoplive\" data-clk=\"svc.shoppinglive\" href=\"https://shoppinglive.naver.com/home\"><span class=\"blind\">쇼핑LIVE</span></a></li>\n",
      "<li class=\"nav_item\"><a class=\"nav\" data-clk=\"svc.pay\" href=\"https://order.pay.naver.com/home\">Pay</a></li>\n",
      "<li class=\"nav_item\">\n",
      "<a class=\"nav\" data-clk=\"svc.tvcast\" href=\"https://tv.naver.com/\"><i class=\"ico_tv\"></i>TV</a>\n",
      "</li>\n"
     ]
    }
   ],
   "source": [
    "from bs4 import BeautifulSoup\n",
    "from urllib.request import urlopen\n",
    "\n",
    "url = 'https://www.naver.com'\n",
    "html = urlopen(url)\n",
    "\n",
    "soup = BeautifulSoup(html.read(), 'html.parser')\n",
    "\n",
    "result = soup.find('ul', {'class': 'list_nav type_fix'})\n",
    "li_result = result.find_all('li')\n",
    "\n",
    "for li_res in li_result:\n",
    "    print(li_res)"
   ]
  },
  {
   "cell_type": "code",
   "execution_count": 5,
   "id": "263f8fee",
   "metadata": {},
   "outputs": [
    {
     "name": "stdout",
     "output_type": "stream",
     "text": [
      "<a class=\"nav\" data-clk=\"svc.mail\" href=\"https://mail.naver.com/\"><i class=\"ico_mail\"></i>메일</a>\n",
      "<a class=\"nav\" data-clk=\"svc.cafe\" href=\"https://section.cafe.naver.com/\">카페</a>\n",
      "<a class=\"nav\" data-clk=\"svc.blog\" href=\"https://section.blog.naver.com/\">블로그</a>\n",
      "<a class=\"nav\" data-clk=\"svc.kin\" href=\"https://kin.naver.com/\">지식iN</a>\n",
      "<a class=\"nav shop\" data-clk=\"svc.shopping\" href=\"https://shopping.naver.com/\"><span class=\"blind\">쇼핑</span></a>\n",
      "<a class=\"nav shoplive\" data-clk=\"svc.shoppinglive\" href=\"https://shoppinglive.naver.com/home\"><span class=\"blind\">쇼핑LIVE</span></a>\n",
      "<a class=\"nav\" data-clk=\"svc.pay\" href=\"https://order.pay.naver.com/home\">Pay</a>\n",
      "<a class=\"nav\" data-clk=\"svc.tvcast\" href=\"https://tv.naver.com/\"><i class=\"ico_tv\"></i>TV</a>\n"
     ]
    }
   ],
   "source": [
    "from bs4 import BeautifulSoup\n",
    "from urllib.request import urlopen\n",
    "\n",
    "url = 'https://www.naver.com'\n",
    "html = urlopen(url)\n",
    "\n",
    "soup = BeautifulSoup(html.read(), 'html.parser')\n",
    "\n",
    "result = soup.find('ul', {'class': 'list_nav type_fix'})\n",
    "li_result = result.find_all('li')\n",
    "\n",
    "for li_res in li_result:\n",
    "    a_li_result = li_res.find('a')\n",
    "    print(a_li_result)"
   ]
  },
  {
   "cell_type": "code",
   "execution_count": 6,
   "id": "1a621934",
   "metadata": {},
   "outputs": [
    {
     "name": "stdout",
     "output_type": "stream",
     "text": [
      "메일\n",
      "카페\n",
      "블로그\n",
      "지식iN\n",
      "쇼핑\n",
      "쇼핑LIVE\n",
      "Pay\n",
      "TV\n"
     ]
    }
   ],
   "source": [
    "from bs4 import BeautifulSoup\n",
    "from urllib.request import urlopen\n",
    "\n",
    "url = 'https://www.naver.com'\n",
    "html = urlopen(url)\n",
    "\n",
    "soup = BeautifulSoup(html.read(), 'html.parser')\n",
    "\n",
    "result = soup.find('ul', {'class': 'list_nav type_fix'})\n",
    "li_result = result.find_all('li')\n",
    "\n",
    "for li_res in li_result:\n",
    "    a_li_result = li_res.find('a')\n",
    "    print(a_li_result.text)"
   ]
  },
  {
   "cell_type": "code",
   "execution_count": null,
   "id": "544a0741",
   "metadata": {},
   "outputs": [],
   "source": []
  }
 ],
 "metadata": {
  "kernelspec": {
   "display_name": "Python 3 (ipykernel)",
   "language": "python",
   "name": "python3"
  },
  "language_info": {
   "codemirror_mode": {
    "name": "ipython",
    "version": 3
   },
   "file_extension": ".py",
   "mimetype": "text/x-python",
   "name": "python",
   "nbconvert_exporter": "python",
   "pygments_lexer": "ipython3",
   "version": "3.9.7"
  }
 },
 "nbformat": 4,
 "nbformat_minor": 5
}
