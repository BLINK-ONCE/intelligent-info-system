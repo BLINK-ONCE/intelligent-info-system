{
 "cells": [
  {
   "cell_type": "markdown",
   "id": "ef552fb6",
   "metadata": {},
   "source": [
    "# 네이버 메인 페이지에서 뉴스스탠드 이름 가져오기"
   ]
  },
  {
   "cell_type": "code",
   "execution_count": 14,
   "id": "c0d6b3b1",
   "metadata": {},
   "outputs": [
    {
     "name": "stdout",
     "output_type": "stream",
     "text": [
      "중앙데일리\n",
      "KBS World\n",
      "헤럴드경제\n",
      "OSEN\n",
      "조선일보\n",
      "노컷뉴스\n",
      "블로터\n",
      "마이데일리\n",
      "한국일보\n",
      "한겨레\n",
      "서울신문\n",
      "미디어오늘\n",
      "이데일리\n",
      "지디넷코리아\n",
      "스포츠서울\n",
      "국제신문\n",
      "경인일보\n",
      "미디어제주\n",
      "스포츠한국\n",
      "e대한경제\n",
      "식품저널 foodnews\n",
      "게임동아\n",
      "시사저널\n",
      "월간중앙\n"
     ]
    }
   ],
   "source": [
    "from bs4 import BeautifulSoup\n",
    "from urllib.request import urlopen\n",
    "\n",
    "url = 'https://www.naver.com'\n",
    "html = urlopen(url)\n",
    "\n",
    "soup = BeautifulSoup(html.read(), 'html.parser')\n",
    "\n",
    "result = soup.find(\"div\", {\"class\" : \"thumb_area\"})\n",
    "div_result = result.find_all(\"img\")\n",
    "for div in div_result:\n",
    "    print(div.get(\"alt\"))"
   ]
  },
  {
   "cell_type": "code",
   "execution_count": null,
   "id": "9b9d086d",
   "metadata": {},
   "outputs": [],
   "source": []
  },
  {
   "cell_type": "code",
   "execution_count": null,
   "id": "33e3b8af",
   "metadata": {},
   "outputs": [],
   "source": []
  }
 ],
 "metadata": {
  "kernelspec": {
   "display_name": "Python 3 (ipykernel)",
   "language": "python",
   "name": "python3"
  },
  "language_info": {
   "codemirror_mode": {
    "name": "ipython",
    "version": 3
   },
   "file_extension": ".py",
   "mimetype": "text/x-python",
   "name": "python",
   "nbconvert_exporter": "python",
   "pygments_lexer": "ipython3",
   "version": "3.9.7"
  }
 },
 "nbformat": 4,
 "nbformat_minor": 5
}
